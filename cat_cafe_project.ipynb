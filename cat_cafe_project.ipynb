{
 "cells": [
  {
   "cell_type": "markdown",
   "metadata": {},
   "source": [
    "# Benson Project:  Cat Meets Coffee\n",
    "\n",
    "We are trying to do some data analysis to help us offer suggestions to a cat cafe owner who wants to find new locations for prospective cat cafe businesses.  To do this, we:\n",
    "\n",
    "1. Load in the MTA Turnstile data, use it to estimate the amount of foot traffic for the area near the station.  We will split thus up tracers of weekend and weekday foot traffic.\n",
    "\n",
    "2. Load in Inspections data on businesses in NYC, filter down to places with PET in the name.  This give us a proxy for the distribution of locations of pet stores in NYC.  This will help us answer where there are pet lovers in NYC.\n",
    "\n",
    "3. We will then load this data into a scatter plot of weekday traffic vs number of pet stores nearby.\n"
   ]
  },
  {
   "cell_type": "code",
   "execution_count": 1,
   "metadata": {},
   "outputs": [],
   "source": [
    "%matplotlib inline\n",
    "import pandas as pd\n",
    "import numpy as np\n",
    "import matplotlib.pyplot as plt\n",
    "import seaborn as sns\n",
    "import urllib.request\n",
    "import re\n",
    "from datetime import datetime as dt\n",
    "import math\n",
    "import datetime\n",
    "\n",
    "sns.set()\n",
    "\n",
    "\n",
    "#set display options\n",
    "pd.set_option('display.max_rows', 30)\n",
    "pd.set_option('display.precision', 3)"
   ]
  },
  {
   "cell_type": "markdown",
   "metadata": {},
   "source": [
    "---\n",
    "# Load in the Past 13 Weeks of Turnstile Data\n",
    "\n",
    "Retrieve data. Save as DataFrame df. "
   ]
  },
  {
   "cell_type": "code",
   "execution_count": 2,
   "metadata": {},
   "outputs": [],
   "source": [
    "def load_mta_data(num_weeks=3):\n",
    "    try:\n",
    "        df = pd.read_csv(f\"mta_{num_weeks}week_data.csv\")\n",
    "    except FileNotFoundError:\n",
    "        print(\"No local data. Gathering data from web.  May take a few moments...\")\n",
    "        df = scrape_mta_data(num_weeks)\n",
    "\n",
    "    return df\n",
    "\n",
    "\n",
    "def scrape_mta_data(num_weeks=3):\n",
    "   # Download data files from web.mta.info website.\n",
    "    STOP_DATE = datetime.datetime(2018, 6, 30)\n",
    "    WEEK = datetime.timedelta(days=7)\n",
    "    URL = \"http://web.mta.info/developers/data/nyct/turnstile/turnstile_\"\n",
    "\n",
    "    dfs = []\n",
    "    for i in range(num_weeks):\n",
    "        full_url = URL + (STOP_DATE - i*WEEK).strftime('%y%m%d') + \".txt\"\n",
    "        dfs.append(pd.read_csv(full_url))\n",
    "\n",
    "    df = pd.concat(dfs)\n",
    "    # Clean and pickle data.\n",
    "    df.columns = [col.strip() for col in df.columns]\n",
    "    df.to_csv(f\"mta_{num_weeks}week_data.csv\")\n",
    "\n",
    "    return df"
   ]
  },
  {
   "cell_type": "code",
   "execution_count": 3,
   "metadata": {},
   "outputs": [],
   "source": [
    "df = load_mta_data(13)"
   ]
  },
  {
   "cell_type": "markdown",
   "metadata": {},
   "source": [
    "Fix the faulty column name \"EXIT      \" to \"EXIT\":"
   ]
  },
  {
   "cell_type": "code",
   "execution_count": 4,
   "metadata": {},
   "outputs": [
    {
     "data": {
      "text/plain": [
       "Index(['Unnamed: 0', 'C/A', 'UNIT', 'SCP', 'STATION', 'LINENAME', 'DIVISION',\n",
       "       'DATE', 'TIME', 'DESC', 'ENTRIES', 'EXITS'],\n",
       "      dtype='object')"
      ]
     },
     "execution_count": 4,
     "metadata": {},
     "output_type": "execute_result"
    }
   ],
   "source": [
    "df.rename(columns={df.columns[-1]:'EXITS'}, inplace=True)\n",
    "df.columns"
   ]
  },
  {
   "cell_type": "markdown",
   "metadata": {},
   "source": [
    "---\n",
    "# Processing Data and Extracting Information from the Data\n",
    "\n",
    "Here we will fix up the data and make columns for the information we actually need to get at (i.e. relative entrance and exit data, etc)."
   ]
  },
  {
   "cell_type": "code",
   "execution_count": 5,
   "metadata": {},
   "outputs": [
    {
     "data": {
      "text/html": [
       "<div>\n",
       "<style scoped>\n",
       "    .dataframe tbody tr th:only-of-type {\n",
       "        vertical-align: middle;\n",
       "    }\n",
       "\n",
       "    .dataframe tbody tr th {\n",
       "        vertical-align: top;\n",
       "    }\n",
       "\n",
       "    .dataframe thead th {\n",
       "        text-align: right;\n",
       "    }\n",
       "</style>\n",
       "<table border=\"1\" class=\"dataframe\">\n",
       "  <thead>\n",
       "    <tr style=\"text-align: right;\">\n",
       "      <th></th>\n",
       "      <th>Unnamed: 0</th>\n",
       "      <th>C/A</th>\n",
       "      <th>UNIT</th>\n",
       "      <th>SCP</th>\n",
       "      <th>STATION</th>\n",
       "      <th>LINENAME</th>\n",
       "      <th>DIVISION</th>\n",
       "      <th>DATE</th>\n",
       "      <th>TIME</th>\n",
       "      <th>DESC</th>\n",
       "      <th>ENTRIES</th>\n",
       "      <th>EXITS</th>\n",
       "      <th>DATE_TIME</th>\n",
       "    </tr>\n",
       "  </thead>\n",
       "  <tbody>\n",
       "    <tr>\n",
       "      <th>0</th>\n",
       "      <td>0</td>\n",
       "      <td>A002</td>\n",
       "      <td>R051</td>\n",
       "      <td>02-00-00</td>\n",
       "      <td>59 ST</td>\n",
       "      <td>NQR456W</td>\n",
       "      <td>BMT</td>\n",
       "      <td>06/23/2018</td>\n",
       "      <td>00:00:00</td>\n",
       "      <td>REGULAR</td>\n",
       "      <td>6667150</td>\n",
       "      <td>2259901</td>\n",
       "      <td>2018-06-23 00:00:00</td>\n",
       "    </tr>\n",
       "    <tr>\n",
       "      <th>1</th>\n",
       "      <td>1</td>\n",
       "      <td>A002</td>\n",
       "      <td>R051</td>\n",
       "      <td>02-00-00</td>\n",
       "      <td>59 ST</td>\n",
       "      <td>NQR456W</td>\n",
       "      <td>BMT</td>\n",
       "      <td>06/23/2018</td>\n",
       "      <td>04:00:00</td>\n",
       "      <td>REGULAR</td>\n",
       "      <td>6667173</td>\n",
       "      <td>2259909</td>\n",
       "      <td>2018-06-23 04:00:00</td>\n",
       "    </tr>\n",
       "    <tr>\n",
       "      <th>2</th>\n",
       "      <td>2</td>\n",
       "      <td>A002</td>\n",
       "      <td>R051</td>\n",
       "      <td>02-00-00</td>\n",
       "      <td>59 ST</td>\n",
       "      <td>NQR456W</td>\n",
       "      <td>BMT</td>\n",
       "      <td>06/23/2018</td>\n",
       "      <td>08:00:00</td>\n",
       "      <td>REGULAR</td>\n",
       "      <td>6667189</td>\n",
       "      <td>2259938</td>\n",
       "      <td>2018-06-23 08:00:00</td>\n",
       "    </tr>\n",
       "    <tr>\n",
       "      <th>3</th>\n",
       "      <td>3</td>\n",
       "      <td>A002</td>\n",
       "      <td>R051</td>\n",
       "      <td>02-00-00</td>\n",
       "      <td>59 ST</td>\n",
       "      <td>NQR456W</td>\n",
       "      <td>BMT</td>\n",
       "      <td>06/23/2018</td>\n",
       "      <td>12:00:00</td>\n",
       "      <td>REGULAR</td>\n",
       "      <td>6667305</td>\n",
       "      <td>2260006</td>\n",
       "      <td>2018-06-23 12:00:00</td>\n",
       "    </tr>\n",
       "    <tr>\n",
       "      <th>4</th>\n",
       "      <td>4</td>\n",
       "      <td>A002</td>\n",
       "      <td>R051</td>\n",
       "      <td>02-00-00</td>\n",
       "      <td>59 ST</td>\n",
       "      <td>NQR456W</td>\n",
       "      <td>BMT</td>\n",
       "      <td>06/23/2018</td>\n",
       "      <td>16:00:00</td>\n",
       "      <td>REGULAR</td>\n",
       "      <td>6667534</td>\n",
       "      <td>2260066</td>\n",
       "      <td>2018-06-23 16:00:00</td>\n",
       "    </tr>\n",
       "  </tbody>\n",
       "</table>\n",
       "</div>"
      ],
      "text/plain": [
       "   Unnamed: 0   C/A  UNIT       SCP STATION LINENAME DIVISION        DATE  \\\n",
       "0           0  A002  R051  02-00-00   59 ST  NQR456W      BMT  06/23/2018   \n",
       "1           1  A002  R051  02-00-00   59 ST  NQR456W      BMT  06/23/2018   \n",
       "2           2  A002  R051  02-00-00   59 ST  NQR456W      BMT  06/23/2018   \n",
       "3           3  A002  R051  02-00-00   59 ST  NQR456W      BMT  06/23/2018   \n",
       "4           4  A002  R051  02-00-00   59 ST  NQR456W      BMT  06/23/2018   \n",
       "\n",
       "       TIME     DESC  ENTRIES    EXITS           DATE_TIME  \n",
       "0  00:00:00  REGULAR  6667150  2259901 2018-06-23 00:00:00  \n",
       "1  04:00:00  REGULAR  6667173  2259909 2018-06-23 04:00:00  \n",
       "2  08:00:00  REGULAR  6667189  2259938 2018-06-23 08:00:00  \n",
       "3  12:00:00  REGULAR  6667305  2260006 2018-06-23 12:00:00  \n",
       "4  16:00:00  REGULAR  6667534  2260066 2018-06-23 16:00:00  "
      ]
     },
     "execution_count": 5,
     "metadata": {},
     "output_type": "execute_result"
    }
   ],
   "source": [
    "df['DATE_TIME'] = pd.to_datetime(df.DATE + ' ' + df.TIME)\n",
    "df.head()"
   ]
  },
  {
   "cell_type": "code",
   "execution_count": 6,
   "metadata": {},
   "outputs": [],
   "source": [
    "df = df[df.DESC=='REGULAR'] #remove record with 'RECOV AUD'\n",
    "df = df.sort_values(['C/A', 'UNIT', 'SCP', 'STATION', 'LINENAME','DATE_TIME'])\n",
    "df.drop(columns='DESC', inplace = True)\n",
    "\n",
    "daily_turnstile = \\\n",
    "df.groupby(['C/A', 'UNIT', 'SCP', 'STATION', 'LINENAME', 'DATE'], \n",
    "           as_index=False)[['ENTRIES','EXITS']].first()\n",
    "\n",
    "daily_turnstile[['PREV_DATE', 'PREV_ENTRIES', 'PREV_EXITS']] = (daily_turnstile\n",
    "                                                                    .groupby(['C/A', 'UNIT', 'SCP', 'STATION', 'LINENAME'])['DATE', 'ENTRIES', 'EXITS']\n",
    "                                                                .transform(lambda g: g.shift(1)))\n",
    "daily_turnstile.dropna(subset=['PREV_DATE'], inplace=True)"
   ]
  },
  {
   "cell_type": "markdown",
   "metadata": {},
   "source": [
    "The MTA turnstile data contains only cummulative records, so we need to push this down to the relative records, i.e. how many exits and entrances actually occurred on that day."
   ]
  },
  {
   "cell_type": "code",
   "execution_count": 7,
   "metadata": {},
   "outputs": [],
   "source": [
    "def get_daily_counts(row, max_counter = 10000):\n",
    "    '''Remove rows with missing data. Correct negative values and values from device reset.\n",
    "    '''\n",
    "    enter_counter = row.ENTRIES - row.PREV_ENTRIES\n",
    "    exit_counter = row.EXITS - row.PREV_EXITS\n",
    "    if enter_counter < 0:\n",
    "        enter_counter = -enter_counter\n",
    "    if enter_counter > max_counter:\n",
    "        #print('enter', row[\"ENTRIES\"], row[\"PREV_ENTRIES\"])\n",
    "        enter_counter = min(row.ENTRIES, row.PREV_ENTRIES)\n",
    "    if enter_counter > max_counter:\n",
    "        enter_counter = 0\n",
    "    if exit_counter < 0:\n",
    "        exit_counter = -exit_counter\n",
    "    if exit_counter > max_counter:\n",
    "        #print('exit', row[\"EXITS\"], row[\"PREV_EXITS\"])\n",
    "        exit_counter = min(row.EXITS, row.PREV_EXITS)\n",
    "    if exit_counter > max_counter:\n",
    "        exit_counter = 0\n",
    "    return enter_counter, exit_counter"
   ]
  },
  {
   "cell_type": "code",
   "execution_count": 8,
   "metadata": {},
   "outputs": [],
   "source": [
    "daily_turnstile['DAILY_ENTRIES'], daily_turnstile['DAILY_EXITS'] = zip(*daily_turnstile\n",
    "                                                      .apply(get_daily_counts, axis = 1, max_counter=10000))"
   ]
  },
  {
   "cell_type": "markdown",
   "metadata": {},
   "source": [
    "Add a column TRAFFIC, which is the sum of daily entries and exits."
   ]
  },
  {
   "cell_type": "code",
   "execution_count": 9,
   "metadata": {},
   "outputs": [],
   "source": [
    "daily_turnstile['TRAFFIC'] = daily_turnstile.DAILY_ENTRIES + daily_turnstile.DAILY_EXITS\n"
   ]
  },
  {
   "cell_type": "markdown",
   "metadata": {},
   "source": [
    "The same station may have linenames in different orders. For example, in the original data set, FULTON ST has 3 linenames: 'ACJZ2345', '2345ACJZ' and 'G'. G is in Brooklyn, but'ACJZ2345' and '2345ACJZ' should refer to the same station. Sort the lines in the linename will solve the different linename due to the different order."
   ]
  },
  {
   "cell_type": "code",
   "execution_count": 10,
   "metadata": {},
   "outputs": [
    {
     "data": {
      "text/html": [
       "<div>\n",
       "<style scoped>\n",
       "    .dataframe tbody tr th:only-of-type {\n",
       "        vertical-align: middle;\n",
       "    }\n",
       "\n",
       "    .dataframe tbody tr th {\n",
       "        vertical-align: top;\n",
       "    }\n",
       "\n",
       "    .dataframe thead th {\n",
       "        text-align: right;\n",
       "    }\n",
       "</style>\n",
       "<table border=\"1\" class=\"dataframe\">\n",
       "  <thead>\n",
       "    <tr style=\"text-align: right;\">\n",
       "      <th></th>\n",
       "      <th>C/A</th>\n",
       "      <th>UNIT</th>\n",
       "      <th>SCP</th>\n",
       "      <th>STATION</th>\n",
       "      <th>LINENAME</th>\n",
       "      <th>DATE</th>\n",
       "      <th>ENTRIES</th>\n",
       "      <th>EXITS</th>\n",
       "      <th>PREV_DATE</th>\n",
       "      <th>PREV_ENTRIES</th>\n",
       "      <th>PREV_EXITS</th>\n",
       "      <th>DAILY_ENTRIES</th>\n",
       "      <th>DAILY_EXITS</th>\n",
       "      <th>TRAFFIC</th>\n",
       "    </tr>\n",
       "  </thead>\n",
       "  <tbody>\n",
       "    <tr>\n",
       "      <th>1</th>\n",
       "      <td>A002</td>\n",
       "      <td>R051</td>\n",
       "      <td>02-00-00</td>\n",
       "      <td>59 ST</td>\n",
       "      <td>NQR456W</td>\n",
       "      <td>04/01/2018</td>\n",
       "      <td>6566470</td>\n",
       "      <td>2224055</td>\n",
       "      <td>03/31/2018</td>\n",
       "      <td>6.566e+06</td>\n",
       "      <td>2.224e+06</td>\n",
       "      <td>7.0</td>\n",
       "      <td>5.0</td>\n",
       "      <td>12.0</td>\n",
       "    </tr>\n",
       "    <tr>\n",
       "      <th>2</th>\n",
       "      <td>A002</td>\n",
       "      <td>R051</td>\n",
       "      <td>02-00-00</td>\n",
       "      <td>59 ST</td>\n",
       "      <td>NQR456W</td>\n",
       "      <td>04/02/2018</td>\n",
       "      <td>6566470</td>\n",
       "      <td>2224055</td>\n",
       "      <td>04/01/2018</td>\n",
       "      <td>6.566e+06</td>\n",
       "      <td>2.224e+06</td>\n",
       "      <td>0.0</td>\n",
       "      <td>0.0</td>\n",
       "      <td>0.0</td>\n",
       "    </tr>\n",
       "    <tr>\n",
       "      <th>3</th>\n",
       "      <td>A002</td>\n",
       "      <td>R051</td>\n",
       "      <td>02-00-00</td>\n",
       "      <td>59 ST</td>\n",
       "      <td>NQR456W</td>\n",
       "      <td>04/03/2018</td>\n",
       "      <td>6567630</td>\n",
       "      <td>2224496</td>\n",
       "      <td>04/02/2018</td>\n",
       "      <td>6.566e+06</td>\n",
       "      <td>2.224e+06</td>\n",
       "      <td>1160.0</td>\n",
       "      <td>441.0</td>\n",
       "      <td>1601.0</td>\n",
       "    </tr>\n",
       "    <tr>\n",
       "      <th>4</th>\n",
       "      <td>A002</td>\n",
       "      <td>R051</td>\n",
       "      <td>02-00-00</td>\n",
       "      <td>59 ST</td>\n",
       "      <td>NQR456W</td>\n",
       "      <td>04/04/2018</td>\n",
       "      <td>6568921</td>\n",
       "      <td>2225039</td>\n",
       "      <td>04/03/2018</td>\n",
       "      <td>6.568e+06</td>\n",
       "      <td>2.224e+06</td>\n",
       "      <td>1291.0</td>\n",
       "      <td>543.0</td>\n",
       "      <td>1834.0</td>\n",
       "    </tr>\n",
       "    <tr>\n",
       "      <th>5</th>\n",
       "      <td>A002</td>\n",
       "      <td>R051</td>\n",
       "      <td>02-00-00</td>\n",
       "      <td>59 ST</td>\n",
       "      <td>NQR456W</td>\n",
       "      <td>04/05/2018</td>\n",
       "      <td>6570307</td>\n",
       "      <td>2225512</td>\n",
       "      <td>04/04/2018</td>\n",
       "      <td>6.569e+06</td>\n",
       "      <td>2.225e+06</td>\n",
       "      <td>1386.0</td>\n",
       "      <td>473.0</td>\n",
       "      <td>1859.0</td>\n",
       "    </tr>\n",
       "  </tbody>\n",
       "</table>\n",
       "</div>"
      ],
      "text/plain": [
       "    C/A  UNIT       SCP STATION LINENAME        DATE  ENTRIES    EXITS  \\\n",
       "1  A002  R051  02-00-00   59 ST  NQR456W  04/01/2018  6566470  2224055   \n",
       "2  A002  R051  02-00-00   59 ST  NQR456W  04/02/2018  6566470  2224055   \n",
       "3  A002  R051  02-00-00   59 ST  NQR456W  04/03/2018  6567630  2224496   \n",
       "4  A002  R051  02-00-00   59 ST  NQR456W  04/04/2018  6568921  2225039   \n",
       "5  A002  R051  02-00-00   59 ST  NQR456W  04/05/2018  6570307  2225512   \n",
       "\n",
       "    PREV_DATE  PREV_ENTRIES  PREV_EXITS  DAILY_ENTRIES  DAILY_EXITS  TRAFFIC  \n",
       "1  03/31/2018     6.566e+06   2.224e+06            7.0          5.0     12.0  \n",
       "2  04/01/2018     6.566e+06   2.224e+06            0.0          0.0      0.0  \n",
       "3  04/02/2018     6.566e+06   2.224e+06         1160.0        441.0   1601.0  \n",
       "4  04/03/2018     6.568e+06   2.224e+06         1291.0        543.0   1834.0  \n",
       "5  04/04/2018     6.569e+06   2.225e+06         1386.0        473.0   1859.0  "
      ]
     },
     "execution_count": 10,
     "metadata": {},
     "output_type": "execute_result"
    }
   ],
   "source": [
    "daily_turnstile.head()"
   ]
  },
  {
   "cell_type": "code",
   "execution_count": 11,
   "metadata": {},
   "outputs": [],
   "source": [
    "daily_turnstile.LINENAME = daily_turnstile.LINENAME.apply(lambda name: ''.join(sorted(name)))"
   ]
  },
  {
   "cell_type": "markdown",
   "metadata": {},
   "source": [
    "Separate weekday and weekends to two DataFrames, starting from Mon."
   ]
  },
  {
   "cell_type": "code",
   "execution_count": 12,
   "metadata": {},
   "outputs": [
    {
     "name": "stdout",
     "output_type": "stream",
     "text": [
      "(422548, 14) (300489, 14) (122059, 14)\n"
     ]
    }
   ],
   "source": [
    "daily_turnstile['date'] = pd.to_datetime(daily_turnstile.PREV_DATE)\n",
    "daily_turnstile.set_index('date', inplace=True)\n",
    "weekend = daily_turnstile[(daily_turnstile.index.weekday ==  5)|(daily_turnstile.index.weekday == 6)]\n",
    "\n",
    "weekday = daily_turnstile[~((daily_turnstile.index.weekday ==  5)|(daily_turnstile.index.weekday == 6))]\n",
    "\n",
    "print(daily_turnstile.shape, weekday.shape, weekend.shape)"
   ]
  },
  {
   "cell_type": "code",
   "execution_count": 13,
   "metadata": {},
   "outputs": [],
   "source": [
    "weekday_daily = weekday.groupby(['STATION', 'LINENAME', 'DATE'], as_index=False)['DAILY_ENTRIES', 'DAILY_EXITS','TRAFFIC'].sum()\n",
    "weekend_daily = weekend.groupby(['STATION', 'LINENAME', 'DATE'], as_index=False)['DAILY_ENTRIES', 'DAILY_EXITS','TRAFFIC'].sum()\n",
    "\n",
    "weekday_station = weekday_daily.groupby(['STATION', 'LINENAME'], as_index=False).sum()\n",
    "weekend_station = weekend_daily.groupby(['STATION', 'LINENAME'], as_index=False).sum()"
   ]
  },
  {
   "cell_type": "code",
   "execution_count": 14,
   "metadata": {},
   "outputs": [],
   "source": [
    "weekday_station.rename(columns={'DAILY_ENTRIES':'ENTRIES_3M', 'DAILY_EXITS':'EXITS_3M'}, inplace=True)\n",
    "weekend_station.rename(columns={'DAILY_ENTRIES':'ENTRIES_3M', 'DAILY_EXITS':'EXITS_3M'}, inplace=True)"
   ]
  },
  {
   "cell_type": "code",
   "execution_count": 15,
   "metadata": {},
   "outputs": [],
   "source": [
    "weekday_station_total = weekday_station.sort_values('TRAFFIC', ascending=False)\n",
    "weekday_station_total['TRAFFIC_rank'] = weekday_station_total.TRAFFIC.rank(ascending=False)\n",
    "weekend_station_total = weekend_station.sort_values('TRAFFIC', ascending=False)\n",
    "weekend_station_total['TRAFFIC_rank'] = weekend_station_total.TRAFFIC.rank(ascending=False)"
   ]
  },
  {
   "cell_type": "markdown",
   "metadata": {},
   "source": [
    "---\n",
    "# Import MTA station location data from NYC opendata.\n",
    "\n",
    "* Here we load up the MTA station data, which contains the location for MTA stations.  The only issue is that it conflicts with the naming conventions, so we won't be able to extract all of them systematically.  However, our analysis will give us at least the top 200 trafficked stations, so this is adequate.\n",
    "\n",
    "* We will use this later to compare to the location of pet stores."
   ]
  },
  {
   "cell_type": "code",
   "execution_count": 16,
   "metadata": {},
   "outputs": [],
   "source": [
    "location = pd.read_csv('DOITT_SUBWAY_STATION_01_13SEPT2010.csv')\n",
    "\n",
    "location.drop(columns = ['URL','OBJECTID','NOTES'],inplace = True)"
   ]
  },
  {
   "cell_type": "code",
   "execution_count": 17,
   "metadata": {},
   "outputs": [],
   "source": [
    "location['NAME'] = location.NAME.str.upper()"
   ]
  },
  {
   "cell_type": "markdown",
   "metadata": {},
   "source": [
    "__N.B.__ Naming conflicts abound, so we will work towards removing the obvious naming inconsistencies."
   ]
  },
  {
   "cell_type": "code",
   "execution_count": 18,
   "metadata": {},
   "outputs": [],
   "source": [
    "def streetname(s):\n",
    "    '''Try to uniform the format of the station names\n",
    "    '''\n",
    "    s = re.sub('AVE', 'AV', s)\n",
    "    s = re.sub('AVNUE', 'AV', s)\n",
    "    s = re.sub('(\\d+)[A-Z]{2}', r'\\1', s)\n",
    "    s = re.sub('\\s-\\s', '-', s)\n",
    "    s = re.sub('/', '-', s)\n",
    "    s = re.sub('(\\d+\\s)[A-Z]{2}-(\\w+)\\s*\\w*', r'\\1\\2', s)\n",
    "    s = re.sub('-', ' ', s)\n",
    "    return s"
   ]
  },
  {
   "cell_type": "code",
   "execution_count": 19,
   "metadata": {},
   "outputs": [],
   "source": [
    "location['NAME']= location.NAME.transform(streetname)"
   ]
  },
  {
   "cell_type": "code",
   "execution_count": 20,
   "metadata": {},
   "outputs": [
    {
     "data": {
      "text/html": [
       "<div>\n",
       "<style scoped>\n",
       "    .dataframe tbody tr th:only-of-type {\n",
       "        vertical-align: middle;\n",
       "    }\n",
       "\n",
       "    .dataframe tbody tr th {\n",
       "        vertical-align: top;\n",
       "    }\n",
       "\n",
       "    .dataframe thead th {\n",
       "        text-align: right;\n",
       "    }\n",
       "</style>\n",
       "<table border=\"1\" class=\"dataframe\">\n",
       "  <thead>\n",
       "    <tr style=\"text-align: right;\">\n",
       "      <th></th>\n",
       "      <th>NAME</th>\n",
       "      <th>the_geom</th>\n",
       "      <th>LINE</th>\n",
       "    </tr>\n",
       "  </thead>\n",
       "  <tbody>\n",
       "    <tr>\n",
       "      <th>0</th>\n",
       "      <td>ASTOR PL</td>\n",
       "      <td>POINT (-73.99106999861966 40.73005400028978)</td>\n",
       "      <td>4-6-6 Express</td>\n",
       "    </tr>\n",
       "    <tr>\n",
       "      <th>1</th>\n",
       "      <td>CANAL ST</td>\n",
       "      <td>POINT (-74.00019299927328 40.71880300107709)</td>\n",
       "      <td>4-6-6 Express</td>\n",
       "    </tr>\n",
       "    <tr>\n",
       "      <th>2</th>\n",
       "      <td>50 ST</td>\n",
       "      <td>POINT (-73.98384899986625 40.76172799961419)</td>\n",
       "      <td>1-2</td>\n",
       "    </tr>\n",
       "    <tr>\n",
       "      <th>3</th>\n",
       "      <td>BERGEN ST</td>\n",
       "      <td>POINT (-73.97499915116808 40.68086213682956)</td>\n",
       "      <td>2-3-4</td>\n",
       "    </tr>\n",
       "    <tr>\n",
       "      <th>4</th>\n",
       "      <td>PENNSYLVANIA AV</td>\n",
       "      <td>POINT (-73.89488591154061 40.66471445143568)</td>\n",
       "      <td>3-4</td>\n",
       "    </tr>\n",
       "  </tbody>\n",
       "</table>\n",
       "</div>"
      ],
      "text/plain": [
       "              NAME                                      the_geom  \\\n",
       "0         ASTOR PL  POINT (-73.99106999861966 40.73005400028978)   \n",
       "1         CANAL ST  POINT (-74.00019299927328 40.71880300107709)   \n",
       "2            50 ST  POINT (-73.98384899986625 40.76172799961419)   \n",
       "3        BERGEN ST  POINT (-73.97499915116808 40.68086213682956)   \n",
       "4  PENNSYLVANIA AV  POINT (-73.89488591154061 40.66471445143568)   \n",
       "\n",
       "            LINE  \n",
       "0  4-6-6 Express  \n",
       "1  4-6-6 Express  \n",
       "2            1-2  \n",
       "3          2-3-4  \n",
       "4            3-4  "
      ]
     },
     "execution_count": 20,
     "metadata": {},
     "output_type": "execute_result"
    }
   ],
   "source": [
    "location.head()"
   ]
  },
  {
   "cell_type": "markdown",
   "metadata": {},
   "source": [
    "Split the coordinates in different columns, to aid in processing distances."
   ]
  },
  {
   "cell_type": "code",
   "execution_count": 21,
   "metadata": {},
   "outputs": [
    {
     "data": {
      "text/plain": [
       "(-73.99106999861966, 40.73005400028978)"
      ]
     },
     "execution_count": 21,
     "metadata": {},
     "output_type": "execute_result"
    }
   ],
   "source": [
    "def split_coordinate(s):\n",
    "    sl = s.split()\n",
    "    #return (sl[1], sl[2])\n",
    "    lon = float(sl[1].strip('('))\n",
    "    lat = float(sl[2].strip(')'))\n",
    "    return (lon, lat)\n",
    "\n",
    "split_coordinate('POINT (-73.99106999861966 40.73005400028978)') #test"
   ]
  },
  {
   "cell_type": "code",
   "execution_count": 22,
   "metadata": {},
   "outputs": [
    {
     "data": {
      "text/html": [
       "<div>\n",
       "<style scoped>\n",
       "    .dataframe tbody tr th:only-of-type {\n",
       "        vertical-align: middle;\n",
       "    }\n",
       "\n",
       "    .dataframe tbody tr th {\n",
       "        vertical-align: top;\n",
       "    }\n",
       "\n",
       "    .dataframe thead th {\n",
       "        text-align: right;\n",
       "    }\n",
       "</style>\n",
       "<table border=\"1\" class=\"dataframe\">\n",
       "  <thead>\n",
       "    <tr style=\"text-align: right;\">\n",
       "      <th></th>\n",
       "      <th>NAME</th>\n",
       "      <th>the_geom</th>\n",
       "      <th>LINE</th>\n",
       "      <th>lon</th>\n",
       "      <th>lat</th>\n",
       "    </tr>\n",
       "  </thead>\n",
       "  <tbody>\n",
       "    <tr>\n",
       "      <th>0</th>\n",
       "      <td>ASTOR PL</td>\n",
       "      <td>POINT (-73.99106999861966 40.73005400028978)</td>\n",
       "      <td>4-6-6 Express</td>\n",
       "      <td>-73.991</td>\n",
       "      <td>40.730</td>\n",
       "    </tr>\n",
       "    <tr>\n",
       "      <th>1</th>\n",
       "      <td>CANAL ST</td>\n",
       "      <td>POINT (-74.00019299927328 40.71880300107709)</td>\n",
       "      <td>4-6-6 Express</td>\n",
       "      <td>-74.000</td>\n",
       "      <td>40.719</td>\n",
       "    </tr>\n",
       "    <tr>\n",
       "      <th>2</th>\n",
       "      <td>50 ST</td>\n",
       "      <td>POINT (-73.98384899986625 40.76172799961419)</td>\n",
       "      <td>1-2</td>\n",
       "      <td>-73.984</td>\n",
       "      <td>40.762</td>\n",
       "    </tr>\n",
       "    <tr>\n",
       "      <th>3</th>\n",
       "      <td>BERGEN ST</td>\n",
       "      <td>POINT (-73.97499915116808 40.68086213682956)</td>\n",
       "      <td>2-3-4</td>\n",
       "      <td>-73.975</td>\n",
       "      <td>40.681</td>\n",
       "    </tr>\n",
       "    <tr>\n",
       "      <th>4</th>\n",
       "      <td>PENNSYLVANIA AV</td>\n",
       "      <td>POINT (-73.89488591154061 40.66471445143568)</td>\n",
       "      <td>3-4</td>\n",
       "      <td>-73.895</td>\n",
       "      <td>40.665</td>\n",
       "    </tr>\n",
       "  </tbody>\n",
       "</table>\n",
       "</div>"
      ],
      "text/plain": [
       "              NAME                                      the_geom  \\\n",
       "0         ASTOR PL  POINT (-73.99106999861966 40.73005400028978)   \n",
       "1         CANAL ST  POINT (-74.00019299927328 40.71880300107709)   \n",
       "2            50 ST  POINT (-73.98384899986625 40.76172799961419)   \n",
       "3        BERGEN ST  POINT (-73.97499915116808 40.68086213682956)   \n",
       "4  PENNSYLVANIA AV  POINT (-73.89488591154061 40.66471445143568)   \n",
       "\n",
       "            LINE     lon     lat  \n",
       "0  4-6-6 Express -73.991  40.730  \n",
       "1  4-6-6 Express -74.000  40.719  \n",
       "2            1-2 -73.984  40.762  \n",
       "3          2-3-4 -73.975  40.681  \n",
       "4            3-4 -73.895  40.665  "
      ]
     },
     "execution_count": 22,
     "metadata": {},
     "output_type": "execute_result"
    }
   ],
   "source": [
    "location['lon'], location['lat'] = zip(*location.the_geom.apply(split_coordinate))\n",
    "location.head()"
   ]
  },
  {
   "cell_type": "markdown",
   "metadata": {},
   "source": [
    "We notice there slightly different location for same station, for example, FULTON ST.\n",
    "\n",
    "__N.B.__ We take average for those ones that are close!  This is an assumption to help us aggregate some of the stations that are very close so we don't get too many stations that are right next to each other and sampling the same nearby pet storess."
   ]
  },
  {
   "cell_type": "code",
   "execution_count": 23,
   "metadata": {},
   "outputs": [
    {
     "data": {
      "text/html": [
       "<div>\n",
       "<style scoped>\n",
       "    .dataframe tbody tr th:only-of-type {\n",
       "        vertical-align: middle;\n",
       "    }\n",
       "\n",
       "    .dataframe tbody tr th {\n",
       "        vertical-align: top;\n",
       "    }\n",
       "\n",
       "    .dataframe thead th {\n",
       "        text-align: right;\n",
       "    }\n",
       "</style>\n",
       "<table border=\"1\" class=\"dataframe\">\n",
       "  <thead>\n",
       "    <tr style=\"text-align: right;\">\n",
       "      <th></th>\n",
       "      <th>NAME</th>\n",
       "      <th>the_geom</th>\n",
       "      <th>LINE</th>\n",
       "      <th>lon</th>\n",
       "      <th>lat</th>\n",
       "    </tr>\n",
       "  </thead>\n",
       "  <tbody>\n",
       "    <tr>\n",
       "      <th>117</th>\n",
       "      <td>FULTON ST</td>\n",
       "      <td>POINT (-73.97537499833149 40.68711899950771)</td>\n",
       "      <td>G</td>\n",
       "      <td>-73.975</td>\n",
       "      <td>40.687</td>\n",
       "    </tr>\n",
       "    <tr>\n",
       "      <th>359</th>\n",
       "      <td>FULTON ST</td>\n",
       "      <td>POINT (-74.00762309323994 40.71016216530185)</td>\n",
       "      <td>A-C</td>\n",
       "      <td>-74.008</td>\n",
       "      <td>40.710</td>\n",
       "    </tr>\n",
       "    <tr>\n",
       "      <th>401</th>\n",
       "      <td>FULTON ST</td>\n",
       "      <td>POINT (-74.00657099970202 40.70941599925865)</td>\n",
       "      <td>2-3</td>\n",
       "      <td>-74.007</td>\n",
       "      <td>40.709</td>\n",
       "    </tr>\n",
       "    <tr>\n",
       "      <th>412</th>\n",
       "      <td>FULTON ST</td>\n",
       "      <td>POINT (-74.00793800110387 40.71002266658424)</td>\n",
       "      <td>J-Z</td>\n",
       "      <td>-74.008</td>\n",
       "      <td>40.710</td>\n",
       "    </tr>\n",
       "    <tr>\n",
       "      <th>426</th>\n",
       "      <td>FULTON ST</td>\n",
       "      <td>POINT (-74.00950899856461 40.710367998822136)</td>\n",
       "      <td>4-5</td>\n",
       "      <td>-74.010</td>\n",
       "      <td>40.710</td>\n",
       "    </tr>\n",
       "  </tbody>\n",
       "</table>\n",
       "</div>"
      ],
      "text/plain": [
       "          NAME                                       the_geom LINE     lon  \\\n",
       "117  FULTON ST   POINT (-73.97537499833149 40.68711899950771)    G -73.975   \n",
       "359  FULTON ST   POINT (-74.00762309323994 40.71016216530185)  A-C -74.008   \n",
       "401  FULTON ST   POINT (-74.00657099970202 40.70941599925865)  2-3 -74.007   \n",
       "412  FULTON ST   POINT (-74.00793800110387 40.71002266658424)  J-Z -74.008   \n",
       "426  FULTON ST  POINT (-74.00950899856461 40.710367998822136)  4-5 -74.010   \n",
       "\n",
       "        lat  \n",
       "117  40.687  \n",
       "359  40.710  \n",
       "401  40.709  \n",
       "412  40.710  \n",
       "426  40.710  "
      ]
     },
     "execution_count": 23,
     "metadata": {},
     "output_type": "execute_result"
    }
   ],
   "source": [
    "location[location.NAME == 'FULTON ST']"
   ]
  },
  {
   "cell_type": "code",
   "execution_count": 24,
   "metadata": {},
   "outputs": [],
   "source": [
    "location = location[~((location.NAME =='FULTON ST') & (location.LINE == 'G'))]"
   ]
  },
  {
   "cell_type": "code",
   "execution_count": 25,
   "metadata": {},
   "outputs": [],
   "source": [
    "location_station= location.groupby('NAME')['lon','lat'].mean()"
   ]
  },
  {
   "cell_type": "markdown",
   "metadata": {},
   "source": [
    "---\n",
    "# Make a DataFrame with all the station and coordinates\n",
    "\n",
    "We will need it to calculate nearby petshops and the map to the turnstile data."
   ]
  },
  {
   "cell_type": "code",
   "execution_count": 26,
   "metadata": {},
   "outputs": [],
   "source": [
    "station = pd.DataFrame({'STATION': weekday_station.STATION.unique() })\n",
    "station['alias'] = station.STATION.apply(streetname)\n",
    "station_with_coordinates = pd.merge(station, \n",
    "                                         location_station, \n",
    "                                         left_on='alias', right_index=True, how='left')\n",
    "station_with_coordinates.to_csv('station_names_coor.csv')"
   ]
  },
  {
   "cell_type": "markdown",
   "metadata": {},
   "source": [
    "__N.B.__ We cleaned up some station names and coordinate and imported the csv back to the notebook."
   ]
  },
  {
   "cell_type": "code",
   "execution_count": 46,
   "metadata": {},
   "outputs": [],
   "source": [
    "location_station = pd.read_csv('station_names_coor.csv')"
   ]
  },
  {
   "cell_type": "code",
   "execution_count": 47,
   "metadata": {},
   "outputs": [
    {
     "data": {
      "text/html": [
       "<div>\n",
       "<style scoped>\n",
       "    .dataframe tbody tr th:only-of-type {\n",
       "        vertical-align: middle;\n",
       "    }\n",
       "\n",
       "    .dataframe tbody tr th {\n",
       "        vertical-align: top;\n",
       "    }\n",
       "\n",
       "    .dataframe thead th {\n",
       "        text-align: right;\n",
       "    }\n",
       "</style>\n",
       "<table border=\"1\" class=\"dataframe\">\n",
       "  <thead>\n",
       "    <tr style=\"text-align: right;\">\n",
       "      <th></th>\n",
       "      <th>Unnamed: 0</th>\n",
       "      <th>STATION</th>\n",
       "      <th>alias</th>\n",
       "      <th>lon</th>\n",
       "      <th>lat</th>\n",
       "    </tr>\n",
       "  </thead>\n",
       "  <tbody>\n",
       "    <tr>\n",
       "      <th>77</th>\n",
       "      <td>77</td>\n",
       "      <td>2 AV</td>\n",
       "      <td>2 AV</td>\n",
       "      <td>-73.99</td>\n",
       "      <td>40.723</td>\n",
       "    </tr>\n",
       "  </tbody>\n",
       "</table>\n",
       "</div>"
      ],
      "text/plain": [
       "    Unnamed: 0 STATION alias    lon     lat\n",
       "77          77    2 AV  2 AV -73.99  40.723"
      ]
     },
     "execution_count": 47,
     "metadata": {},
     "output_type": "execute_result"
    }
   ],
   "source": [
    "location_station[location_station.STATION == '2 AV']"
   ]
  },
  {
   "cell_type": "code",
   "execution_count": 48,
   "metadata": {},
   "outputs": [
    {
     "data": {
      "text/html": [
       "<div>\n",
       "<style scoped>\n",
       "    .dataframe tbody tr th:only-of-type {\n",
       "        vertical-align: middle;\n",
       "    }\n",
       "\n",
       "    .dataframe tbody tr th {\n",
       "        vertical-align: top;\n",
       "    }\n",
       "\n",
       "    .dataframe thead th {\n",
       "        text-align: right;\n",
       "    }\n",
       "</style>\n",
       "<table border=\"1\" class=\"dataframe\">\n",
       "  <thead>\n",
       "    <tr style=\"text-align: right;\">\n",
       "      <th></th>\n",
       "      <th>lon</th>\n",
       "      <th>lat</th>\n",
       "    </tr>\n",
       "    <tr>\n",
       "      <th>STATION</th>\n",
       "      <th></th>\n",
       "      <th></th>\n",
       "    </tr>\n",
       "  </thead>\n",
       "  <tbody>\n",
       "    <tr>\n",
       "      <th>GRD CNTRL-42 ST</th>\n",
       "      <td>-73.977</td>\n",
       "      <td>40.752</td>\n",
       "    </tr>\n",
       "    <tr>\n",
       "      <th>34 ST-HERALD SQ</th>\n",
       "      <td>-73.988</td>\n",
       "      <td>40.750</td>\n",
       "    </tr>\n",
       "    <tr>\n",
       "      <th>14 ST-UNION SQ</th>\n",
       "      <td>-73.990</td>\n",
       "      <td>40.735</td>\n",
       "    </tr>\n",
       "    <tr>\n",
       "      <th>FULTON ST</th>\n",
       "      <td>-74.008</td>\n",
       "      <td>40.710</td>\n",
       "    </tr>\n",
       "    <tr>\n",
       "      <th>TIMES SQ-42 ST</th>\n",
       "      <td>-73.987</td>\n",
       "      <td>40.755</td>\n",
       "    </tr>\n",
       "  </tbody>\n",
       "</table>\n",
       "</div>"
      ],
      "text/plain": [
       "                    lon     lat\n",
       "STATION                        \n",
       "GRD CNTRL-42 ST -73.977  40.752\n",
       "34 ST-HERALD SQ -73.988  40.750\n",
       "14 ST-UNION SQ  -73.990  40.735\n",
       "FULTON ST       -74.008  40.710\n",
       "TIMES SQ-42 ST  -73.987  40.755"
      ]
     },
     "execution_count": 48,
     "metadata": {},
     "output_type": "execute_result"
    }
   ],
   "source": [
    "location_station = location_station[['STATION','lon','lat']].set_index('STATION')\n",
    "location_station.head()"
   ]
  },
  {
   "cell_type": "markdown",
   "metadata": {},
   "source": [
    "---\n",
    "# Count the Number of Pet Stores near each Station\n",
    "\n",
    "__N.B.__ For the interested reader:\n",
    "\n",
    "Formula used to  calculate the distance of the longitude and lattitude data:  \n",
    "Haversine formula:    \n",
    "a = sin²(Δφ/2) + cos φ1 ⋅ cos φ2 ⋅ sin²(Δλ/2)  \n",
    "c = 2 ⋅ atan2( √a, √(1−a) )  \n",
    "d = R ⋅ c  \n",
    "where    φ is latitude, λ is longitude, R is earth’s radius (mean radius = 6,371km);  \n",
    "note that angles need to be in radians to pass to trig functions!  "
   ]
  },
  {
   "cell_type": "code",
   "execution_count": 49,
   "metadata": {},
   "outputs": [],
   "source": [
    "def to_radians(p):\n",
    "    '''Convert degrees to radians.\n",
    "    '''\n",
    "    lon, lat = p\n",
    "    return (lon*math.pi/180, lat*math.pi/180)        \n",
    "\n",
    "p1 = (-73.82758075034528, 40.58326843810286)\n",
    "p2 = (-73.81583268782963, 40.60840218069683)\n",
    "\n",
    "def to_distance(p1,p2, r=6371e3):\n",
    "    '''Calculate the distance between two coordinates in radians.\n",
    "    '''\n",
    "    lon1, lat1 = to_radians(p1)\n",
    "    lon2, lat2 = to_radians(p2)\n",
    "    dlat = lat1 - lat2\n",
    "    dlon = lon1 - lon2\n",
    "    a = math.sin(dlat/2)**2 + math.cos(lat1)*math.cos(lat2)*(math.sin(dlon/2))**2\n",
    "    c = 2 * math.atan2(math.sqrt(a), math.sqrt(1-a))\n",
    "    return r*c   "
   ]
  },
  {
   "cell_type": "markdown",
   "metadata": {},
   "source": [
    "Retrieve and process petshop data"
   ]
  },
  {
   "cell_type": "code",
   "execution_count": 50,
   "metadata": {},
   "outputs": [
    {
     "name": "stderr",
     "output_type": "stream",
     "text": [
      "/anaconda3/lib/python3.6/site-packages/IPython/core/interactiveshell.py:2728: DtypeWarning: Columns (1) have mixed types. Specify dtype option on import or set low_memory=False.\n",
      "  interactivity=interactivity, compiler=compiler, result=result)\n"
     ]
    },
    {
     "name": "stdout",
     "output_type": "stream",
     "text": [
      "16202 16201\n"
     ]
    },
    {
     "data": {
      "text/html": [
       "<div>\n",
       "<style scoped>\n",
       "    .dataframe tbody tr th:only-of-type {\n",
       "        vertical-align: middle;\n",
       "    }\n",
       "\n",
       "    .dataframe tbody tr th {\n",
       "        vertical-align: top;\n",
       "    }\n",
       "\n",
       "    .dataframe thead th {\n",
       "        text-align: right;\n",
       "    }\n",
       "</style>\n",
       "<table border=\"1\" class=\"dataframe\">\n",
       "  <thead>\n",
       "    <tr style=\"text-align: right;\">\n",
       "      <th></th>\n",
       "      <th>Business Name</th>\n",
       "      <th>Longitude</th>\n",
       "      <th>Latitude</th>\n",
       "    </tr>\n",
       "  </thead>\n",
       "  <tbody>\n",
       "    <tr>\n",
       "      <th>821</th>\n",
       "      <td>THE PET MARKET INC</td>\n",
       "      <td>-73.983</td>\n",
       "      <td>40.779</td>\n",
       "    </tr>\n",
       "    <tr>\n",
       "      <th>1730</th>\n",
       "      <td>420 EAST 14TH STREET PET SUPPLY, CORP</td>\n",
       "      <td>-73.982</td>\n",
       "      <td>40.731</td>\n",
       "    </tr>\n",
       "    <tr>\n",
       "      <th>2702</th>\n",
       "      <td>NATIONAL PET SUPPLY, INC</td>\n",
       "      <td>-73.867</td>\n",
       "      <td>40.898</td>\n",
       "    </tr>\n",
       "    <tr>\n",
       "      <th>2976</th>\n",
       "      <td>PETLAND DISCOUNTS, INC.</td>\n",
       "      <td>-73.754</td>\n",
       "      <td>40.679</td>\n",
       "    </tr>\n",
       "    <tr>\n",
       "      <th>3268</th>\n",
       "      <td>PETLAND DISCOUNTS, INC.</td>\n",
       "      <td>-73.994</td>\n",
       "      <td>40.602</td>\n",
       "    </tr>\n",
       "  </tbody>\n",
       "</table>\n",
       "</div>"
      ],
      "text/plain": [
       "                              Business Name  Longitude  Latitude\n",
       "821                      THE PET MARKET INC    -73.983    40.779\n",
       "1730  420 EAST 14TH STREET PET SUPPLY, CORP    -73.982    40.731\n",
       "2702               NATIONAL PET SUPPLY, INC    -73.867    40.898\n",
       "2976                PETLAND DISCOUNTS, INC.    -73.754    40.679\n",
       "3268                PETLAND DISCOUNTS, INC.    -73.994    40.602"
      ]
     },
     "execution_count": 50,
     "metadata": {},
     "output_type": "execute_result"
    }
   ],
   "source": [
    "df_pet = pd.read_csv('Inspections.csv')\n",
    "retail = df_pet[df_pet['Industry'] == 'Misc Non-Food Retail - 817']\n",
    "#filter for non-food retail, category of pet stores\n",
    "retail2 = retail.dropna(subset=['Business Name'])\n",
    "print(len(retail), len(retail2))\n",
    "has_pet = retail2['Business Name'].str.contains('PET')\n",
    "pet_names = retail2[has_pet]\n",
    "pet_names.sample(20)\n",
    "carpet_out = pet_names['Business Name'].str.contains('CARPET')\n",
    "pet_names2 = pet_names[~carpet_out]\n",
    "petroleum = pet_names2['Business Name'].str.contains('PETROLEUM')\n",
    "pet_names3 = pet_names2[~petroleum]\n",
    "other_pet_strings = pet_names3['Business Name'].str.contains('PETER|COMPETITIVE|MASPETH|PETIT')\n",
    "pet_names4 = pet_names3[~other_pet_strings]\n",
    "pet_names4.sample(20)\n",
    "in_business = pet_names4['Inspection Result'].str.contains('Pass|No Violation Issued')\n",
    "names_in_business = pet_names4[in_business]\n",
    "len(names_in_business)\n",
    "pet_store_addresses = names_in_business[['Business Name', 'Longitude', 'Latitude']]\n",
    "pet_store_addresses.head()\n",
    "#pet_store_addresses.to_csv('pet_stores.csv')"
   ]
  },
  {
   "cell_type": "code",
   "execution_count": 51,
   "metadata": {},
   "outputs": [],
   "source": [
    "petshop = pd.read_csv('pet_stores.csv')\n",
    "petshop = petshop[['Longitude','Latitude']]"
   ]
  },
  {
   "cell_type": "markdown",
   "metadata": {},
   "source": [
    "__Finally__, calculate nearby petshops for each station."
   ]
  },
  {
   "cell_type": "code",
   "execution_count": 52,
   "metadata": {},
   "outputs": [],
   "source": [
    "petshop_location = np.asarray(petshop)\n",
    "\n",
    "def petshop_distance(p1, petshop_location, radius=600):\n",
    "    '''calculate the number of petshop within a given radius (in meters) of the station.\n",
    "    '''\n",
    "    count = 0\n",
    "    for location in petshop_location:\n",
    "        #print(p1, location)\n",
    "        #print(to_distance(p1, location) )\n",
    "        if to_distance(p1, location) < radius:\n",
    "            #print(to_distance(p1, location))\n",
    "            count += 1\n",
    "    return count\n",
    "                \n",
    "def get_counts(row):\n",
    "    p = (row[0], row[1])\n",
    "    return petshop_distance(p, petshop_location)\n",
    "        "
   ]
  },
  {
   "cell_type": "code",
   "execution_count": 53,
   "metadata": {},
   "outputs": [],
   "source": [
    "station_with_petshops = location_station.apply(get_counts, axis=1)\n",
    "petshop_count = pd.DataFrame(station_with_petshops.sort_values(ascending = False))"
   ]
  },
  {
   "cell_type": "code",
   "execution_count": 54,
   "metadata": {},
   "outputs": [],
   "source": [
    "weekend_station_total['station_line']=(weekend_station_total.STATION \n",
    "                                       + weekend_station_total.LINENAME)\n",
    "\n",
    "weekday_station_total['station_line']=(weekday_station_total.STATION \n",
    "                                       + weekday_station_total.LINENAME)"
   ]
  },
  {
   "cell_type": "markdown",
   "metadata": {},
   "source": [
    "Merge traffic DataFrame with nearby Petshop DataFrame"
   ]
  },
  {
   "cell_type": "code",
   "execution_count": 55,
   "metadata": {},
   "outputs": [],
   "source": [
    "final = pd.merge(weekday_station_total[['STATION','LINENAME', 'TRAFFIC','station_line']], \n",
    "                weekend_station_total[['TRAFFIC','station_line']], \n",
    "                 on='station_line',suffixes=('weekday', 'weekend'), how='left')"
   ]
  },
  {
   "cell_type": "code",
   "execution_count": 56,
   "metadata": {},
   "outputs": [],
   "source": [
    "final_petshop = pd.merge(final, petshop_count, left_on='STATION', right_index=True, how='left')"
   ]
  },
  {
   "cell_type": "code",
   "execution_count": 57,
   "metadata": {},
   "outputs": [
    {
     "data": {
      "text/html": [
       "<div>\n",
       "<style scoped>\n",
       "    .dataframe tbody tr th:only-of-type {\n",
       "        vertical-align: middle;\n",
       "    }\n",
       "\n",
       "    .dataframe tbody tr th {\n",
       "        vertical-align: top;\n",
       "    }\n",
       "\n",
       "    .dataframe thead th {\n",
       "        text-align: right;\n",
       "    }\n",
       "</style>\n",
       "<table border=\"1\" class=\"dataframe\">\n",
       "  <thead>\n",
       "    <tr style=\"text-align: right;\">\n",
       "      <th></th>\n",
       "      <th>STATION</th>\n",
       "      <th>LINENAME</th>\n",
       "      <th>TRAFFICweekday</th>\n",
       "      <th>station_line</th>\n",
       "      <th>TRAFFICweekend</th>\n",
       "      <th>petshop</th>\n",
       "    </tr>\n",
       "  </thead>\n",
       "  <tbody>\n",
       "    <tr>\n",
       "      <th>0</th>\n",
       "      <td>GRD CNTRL-42 ST</td>\n",
       "      <td>4567S</td>\n",
       "      <td>1.881e+07</td>\n",
       "      <td>GRD CNTRL-42 ST4567S</td>\n",
       "      <td>2.704e+06</td>\n",
       "      <td>1</td>\n",
       "    </tr>\n",
       "    <tr>\n",
       "      <th>1</th>\n",
       "      <td>34 ST-HERALD SQ</td>\n",
       "      <td>BDFMNQRW</td>\n",
       "      <td>1.537e+07</td>\n",
       "      <td>34 ST-HERALD SQBDFMNQRW</td>\n",
       "      <td>3.181e+06</td>\n",
       "      <td>0</td>\n",
       "    </tr>\n",
       "    <tr>\n",
       "      <th>2</th>\n",
       "      <td>14 ST-UNION SQ</td>\n",
       "      <td>456LNQRW</td>\n",
       "      <td>1.273e+07</td>\n",
       "      <td>14 ST-UNION SQ456LNQRW</td>\n",
       "      <td>3.282e+06</td>\n",
       "      <td>2</td>\n",
       "    </tr>\n",
       "    <tr>\n",
       "      <th>3</th>\n",
       "      <td>FULTON ST</td>\n",
       "      <td>2345ACJZ</td>\n",
       "      <td>1.125e+07</td>\n",
       "      <td>FULTON ST2345ACJZ</td>\n",
       "      <td>1.618e+06</td>\n",
       "      <td>2</td>\n",
       "    </tr>\n",
       "    <tr>\n",
       "      <th>4</th>\n",
       "      <td>TIMES SQ-42 ST</td>\n",
       "      <td>1237ACENQRSW</td>\n",
       "      <td>1.091e+07</td>\n",
       "      <td>TIMES SQ-42 ST1237ACENQRSW</td>\n",
       "      <td>2.438e+06</td>\n",
       "      <td>0</td>\n",
       "    </tr>\n",
       "  </tbody>\n",
       "</table>\n",
       "</div>"
      ],
      "text/plain": [
       "           STATION      LINENAME  TRAFFICweekday                station_line  \\\n",
       "0  GRD CNTRL-42 ST         4567S       1.881e+07        GRD CNTRL-42 ST4567S   \n",
       "1  34 ST-HERALD SQ      BDFMNQRW       1.537e+07     34 ST-HERALD SQBDFMNQRW   \n",
       "2   14 ST-UNION SQ      456LNQRW       1.273e+07      14 ST-UNION SQ456LNQRW   \n",
       "3        FULTON ST      2345ACJZ       1.125e+07           FULTON ST2345ACJZ   \n",
       "4   TIMES SQ-42 ST  1237ACENQRSW       1.091e+07  TIMES SQ-42 ST1237ACENQRSW   \n",
       "\n",
       "   TRAFFICweekend  petshop  \n",
       "0       2.704e+06        1  \n",
       "1       3.181e+06        0  \n",
       "2       3.282e+06        2  \n",
       "3       1.618e+06        2  \n",
       "4       2.438e+06        0  "
      ]
     },
     "execution_count": 57,
     "metadata": {},
     "output_type": "execute_result"
    }
   ],
   "source": [
    "final_petshop.rename(columns={0:'petshop'},inplace=True)\n",
    "final_petshop.head()\n",
    "\n"
   ]
  },
  {
   "cell_type": "code",
   "execution_count": 58,
   "metadata": {},
   "outputs": [],
   "source": [
    "final_petshop['weekend_traffic_r'] = final_petshop['TRAFFICweekend'].rank(ascending=False)\n",
    "final_petshop['weekday_traffic_r'] = final_petshop['TRAFFICweekday'].rank(ascending=False)"
   ]
  },
  {
   "cell_type": "code",
   "execution_count": 59,
   "metadata": {},
   "outputs": [
    {
     "data": {
      "text/html": [
       "<div>\n",
       "<style scoped>\n",
       "    .dataframe tbody tr th:only-of-type {\n",
       "        vertical-align: middle;\n",
       "    }\n",
       "\n",
       "    .dataframe tbody tr th {\n",
       "        vertical-align: top;\n",
       "    }\n",
       "\n",
       "    .dataframe thead th {\n",
       "        text-align: right;\n",
       "    }\n",
       "</style>\n",
       "<table border=\"1\" class=\"dataframe\">\n",
       "  <thead>\n",
       "    <tr style=\"text-align: right;\">\n",
       "      <th></th>\n",
       "      <th>STATION</th>\n",
       "      <th>LINENAME</th>\n",
       "      <th>TRAFFICweekday</th>\n",
       "      <th>weekday_traffic_r</th>\n",
       "      <th>TRAFFICweekend</th>\n",
       "      <th>weekend_traffic_r</th>\n",
       "      <th>petshop</th>\n",
       "    </tr>\n",
       "  </thead>\n",
       "  <tbody>\n",
       "    <tr>\n",
       "      <th>0</th>\n",
       "      <td>GRD CNTRL-42 ST</td>\n",
       "      <td>4567S</td>\n",
       "      <td>1.881e+07</td>\n",
       "      <td>1.0</td>\n",
       "      <td>2.704e+06</td>\n",
       "      <td>3.0</td>\n",
       "      <td>1</td>\n",
       "    </tr>\n",
       "    <tr>\n",
       "      <th>1</th>\n",
       "      <td>34 ST-HERALD SQ</td>\n",
       "      <td>BDFMNQRW</td>\n",
       "      <td>1.537e+07</td>\n",
       "      <td>2.0</td>\n",
       "      <td>3.181e+06</td>\n",
       "      <td>2.0</td>\n",
       "      <td>0</td>\n",
       "    </tr>\n",
       "    <tr>\n",
       "      <th>2</th>\n",
       "      <td>14 ST-UNION SQ</td>\n",
       "      <td>456LNQRW</td>\n",
       "      <td>1.273e+07</td>\n",
       "      <td>3.0</td>\n",
       "      <td>3.282e+06</td>\n",
       "      <td>1.0</td>\n",
       "      <td>2</td>\n",
       "    </tr>\n",
       "    <tr>\n",
       "      <th>3</th>\n",
       "      <td>FULTON ST</td>\n",
       "      <td>2345ACJZ</td>\n",
       "      <td>1.125e+07</td>\n",
       "      <td>4.0</td>\n",
       "      <td>1.618e+06</td>\n",
       "      <td>10.0</td>\n",
       "      <td>2</td>\n",
       "    </tr>\n",
       "    <tr>\n",
       "      <th>4</th>\n",
       "      <td>TIMES SQ-42 ST</td>\n",
       "      <td>1237ACENQRSW</td>\n",
       "      <td>1.091e+07</td>\n",
       "      <td>5.0</td>\n",
       "      <td>2.438e+06</td>\n",
       "      <td>5.0</td>\n",
       "      <td>0</td>\n",
       "    </tr>\n",
       "    <tr>\n",
       "      <th>5</th>\n",
       "      <td>34 ST-PENN STA</td>\n",
       "      <td>ACE</td>\n",
       "      <td>9.968e+06</td>\n",
       "      <td>6.0</td>\n",
       "      <td>2.147e+06</td>\n",
       "      <td>6.0</td>\n",
       "      <td>0</td>\n",
       "    </tr>\n",
       "    <tr>\n",
       "      <th>6</th>\n",
       "      <td>42 ST-PORT AUTH</td>\n",
       "      <td>1237ACENQRSW</td>\n",
       "      <td>9.823e+06</td>\n",
       "      <td>7.0</td>\n",
       "      <td>2.443e+06</td>\n",
       "      <td>4.0</td>\n",
       "      <td>1</td>\n",
       "    </tr>\n",
       "    <tr>\n",
       "      <th>7</th>\n",
       "      <td>59 ST COLUMBUS</td>\n",
       "      <td>1ABCD</td>\n",
       "      <td>8.580e+06</td>\n",
       "      <td>8.0</td>\n",
       "      <td>2.001e+06</td>\n",
       "      <td>7.0</td>\n",
       "      <td>3</td>\n",
       "    </tr>\n",
       "    <tr>\n",
       "      <th>8</th>\n",
       "      <td>47-50 STS ROCK</td>\n",
       "      <td>BDFM</td>\n",
       "      <td>7.829e+06</td>\n",
       "      <td>9.0</td>\n",
       "      <td>5.939e+05</td>\n",
       "      <td>52.0</td>\n",
       "      <td>0</td>\n",
       "    </tr>\n",
       "    <tr>\n",
       "      <th>9</th>\n",
       "      <td>PATH NEW WTC</td>\n",
       "      <td>1</td>\n",
       "      <td>7.266e+06</td>\n",
       "      <td>10.0</td>\n",
       "      <td>8.082e+05</td>\n",
       "      <td>27.0</td>\n",
       "      <td>0</td>\n",
       "    </tr>\n",
       "  </tbody>\n",
       "</table>\n",
       "</div>"
      ],
      "text/plain": [
       "           STATION      LINENAME  TRAFFICweekday  weekday_traffic_r  \\\n",
       "0  GRD CNTRL-42 ST         4567S       1.881e+07                1.0   \n",
       "1  34 ST-HERALD SQ      BDFMNQRW       1.537e+07                2.0   \n",
       "2   14 ST-UNION SQ      456LNQRW       1.273e+07                3.0   \n",
       "3        FULTON ST      2345ACJZ       1.125e+07                4.0   \n",
       "4   TIMES SQ-42 ST  1237ACENQRSW       1.091e+07                5.0   \n",
       "5   34 ST-PENN STA           ACE       9.968e+06                6.0   \n",
       "6  42 ST-PORT AUTH  1237ACENQRSW       9.823e+06                7.0   \n",
       "7   59 ST COLUMBUS         1ABCD       8.580e+06                8.0   \n",
       "8   47-50 STS ROCK          BDFM       7.829e+06                9.0   \n",
       "9     PATH NEW WTC             1       7.266e+06               10.0   \n",
       "\n",
       "   TRAFFICweekend  weekend_traffic_r  petshop  \n",
       "0       2.704e+06                3.0        1  \n",
       "1       3.181e+06                2.0        0  \n",
       "2       3.282e+06                1.0        2  \n",
       "3       1.618e+06               10.0        2  \n",
       "4       2.438e+06                5.0        0  \n",
       "5       2.147e+06                6.0        0  \n",
       "6       2.443e+06                4.0        1  \n",
       "7       2.001e+06                7.0        3  \n",
       "8       5.939e+05               52.0        0  \n",
       "9       8.082e+05               27.0        0  "
      ]
     },
     "execution_count": 59,
     "metadata": {},
     "output_type": "execute_result"
    }
   ],
   "source": [
    "final_petshop=final_petshop[['STATION', 'LINENAME','TRAFFICweekday',\n",
    "                             'weekday_traffic_r', 'TRAFFICweekend', 'weekend_traffic_r', 'petshop']]\n",
    "final_petshop.head(10)"
   ]
  },
  {
   "cell_type": "code",
   "execution_count": 60,
   "metadata": {},
   "outputs": [],
   "source": [
    "final_petshop['weekday_average']=final_petshop.TRAFFICweekday/5/13\n",
    "\n",
    "final_petshop['weekend_average']=final_petshop.TRAFFICweekend/2/13"
   ]
  },
  {
   "cell_type": "code",
   "execution_count": 61,
   "metadata": {},
   "outputs": [
    {
     "data": {
      "text/plain": [
       "25615.438461538462"
      ]
     },
     "execution_count": 61,
     "metadata": {},
     "output_type": "execute_result"
    }
   ],
   "source": [
    "p75 = final_petshop.weekday_average.quantile(0.75)\n",
    "p75"
   ]
  },
  {
   "cell_type": "code",
   "execution_count": 62,
   "metadata": {},
   "outputs": [],
   "source": [
    "#remove the stations that don't have coordinates\n",
    "station_to_keep = location_station[location_station.lon.notnull()]\n",
    "\n",
    "station_to_keep\n",
    "\n",
    "df1 = final_petshop[final_petshop.STATION.isin(station_to_keep.index)]"
   ]
  },
  {
   "cell_type": "markdown",
   "metadata": {},
   "source": [
    "---\n",
    "# Plotting Weekday Foot Traffic vs Number of Pet Stores\n",
    "\n",
    "Now we get to plot the data and see what results we get."
   ]
  },
  {
   "cell_type": "code",
   "execution_count": 63,
   "metadata": {},
   "outputs": [
    {
     "data": {
      "image/png": "[encoded data removed]",
      "text/plain": [
       "<matplotlib.figure.Figure at 0x1a182d3320>"
      ]
     },
     "metadata": {},
     "output_type": "display_data"
    }
   ],
   "source": [
    "df1 = df1[['petshop', 'weekday_average']]\n",
    "plotmask1 = ((df1.petshop>5) & (df1.weekday_average>p75))\n",
    "df1['petshop_jitter'] = df1.petshop + np.random.randn(len(df1))/12\n",
    "\n",
    "plt.figure(figsize=(10,6))\n",
    "\n",
    "plt.scatter(df1['petshop_jitter'], df1.weekday_average)\n",
    "plt.scatter(df1[plotmask1]['petshop_jitter'], df1[plotmask1]['weekday_average'], color='r')\n",
    "plt.plot(np.linspace(0,8,3), [p75] *3, color = 'g')\n",
    "loc, _ = plt.yticks()\n",
    "lab = loc/1e3\n",
    "plt.yticks(loc, lab, fontsize=14)\n",
    "plt.ylabel('Daily Traffic (Thoushand)', fontsize = 16)\n",
    "plt.ylim(0,350000)\n",
    "plt.xticks(range(9), range(9), fontsize=14)\n",
    "plt.xlabel('Number of Petshops', fontsize = 14)\n",
    "plt.title('Daily Weekday Traffic vs Nearby Petshops',fontsize = 18)\n",
    "plt.legend(['75th percentile','subway station','ideal station'], fontsize=14 );"
   ]
  },
  {
   "cell_type": "code",
   "execution_count": 64,
   "metadata": {},
   "outputs": [
    {
     "data": {
      "text/html": [
       "<div>\n",
       "<style scoped>\n",
       "    .dataframe tbody tr th:only-of-type {\n",
       "        vertical-align: middle;\n",
       "    }\n",
       "\n",
       "    .dataframe tbody tr th {\n",
       "        vertical-align: top;\n",
       "    }\n",
       "\n",
       "    .dataframe thead th {\n",
       "        text-align: right;\n",
       "    }\n",
       "</style>\n",
       "<table border=\"1\" class=\"dataframe\">\n",
       "  <thead>\n",
       "    <tr style=\"text-align: right;\">\n",
       "      <th></th>\n",
       "      <th>STATION</th>\n",
       "      <th>LINENAME</th>\n",
       "      <th>TRAFFICweekday</th>\n",
       "      <th>weekday_traffic_r</th>\n",
       "      <th>TRAFFICweekend</th>\n",
       "      <th>weekend_traffic_r</th>\n",
       "      <th>petshop</th>\n",
       "      <th>weekday_average</th>\n",
       "      <th>weekend_average</th>\n",
       "    </tr>\n",
       "  </thead>\n",
       "  <tbody>\n",
       "    <tr>\n",
       "      <th>36</th>\n",
       "      <td>50 ST</td>\n",
       "      <td>1</td>\n",
       "      <td>3.344e+06</td>\n",
       "      <td>37.0</td>\n",
       "      <td>639927.0</td>\n",
       "      <td>43.0</td>\n",
       "      <td>8</td>\n",
       "      <td>51440.677</td>\n",
       "      <td>24612.577</td>\n",
       "    </tr>\n",
       "    <tr>\n",
       "      <th>46</th>\n",
       "      <td>1 AV</td>\n",
       "      <td>L</td>\n",
       "      <td>2.982e+06</td>\n",
       "      <td>47.0</td>\n",
       "      <td>909037.0</td>\n",
       "      <td>22.0</td>\n",
       "      <td>6</td>\n",
       "      <td>45870.215</td>\n",
       "      <td>34962.962</td>\n",
       "    </tr>\n",
       "    <tr>\n",
       "      <th>55</th>\n",
       "      <td>DELANCEY/ESSEX</td>\n",
       "      <td>FJMZ</td>\n",
       "      <td>2.849e+06</td>\n",
       "      <td>56.0</td>\n",
       "      <td>670426.0</td>\n",
       "      <td>35.0</td>\n",
       "      <td>6</td>\n",
       "      <td>43833.185</td>\n",
       "      <td>25785.615</td>\n",
       "    </tr>\n",
       "    <tr>\n",
       "      <th>88</th>\n",
       "      <td>2 AV</td>\n",
       "      <td>F</td>\n",
       "      <td>2.105e+06</td>\n",
       "      <td>89.0</td>\n",
       "      <td>378785.0</td>\n",
       "      <td>107.0</td>\n",
       "      <td>7</td>\n",
       "      <td>32383.323</td>\n",
       "      <td>14568.654</td>\n",
       "    </tr>\n",
       "    <tr>\n",
       "      <th>92</th>\n",
       "      <td>50 ST</td>\n",
       "      <td>CE</td>\n",
       "      <td>2.043e+06</td>\n",
       "      <td>93.0</td>\n",
       "      <td>566032.0</td>\n",
       "      <td>59.0</td>\n",
       "      <td>8</td>\n",
       "      <td>31427.523</td>\n",
       "      <td>21770.462</td>\n",
       "    </tr>\n",
       "  </tbody>\n",
       "</table>\n",
       "</div>"
      ],
      "text/plain": [
       "           STATION LINENAME  TRAFFICweekday  weekday_traffic_r  \\\n",
       "36           50 ST        1       3.344e+06               37.0   \n",
       "46            1 AV        L       2.982e+06               47.0   \n",
       "55  DELANCEY/ESSEX     FJMZ       2.849e+06               56.0   \n",
       "88            2 AV        F       2.105e+06               89.0   \n",
       "92           50 ST       CE       2.043e+06               93.0   \n",
       "\n",
       "    TRAFFICweekend  weekend_traffic_r  petshop  weekday_average  \\\n",
       "36        639927.0               43.0        8        51440.677   \n",
       "46        909037.0               22.0        6        45870.215   \n",
       "55        670426.0               35.0        6        43833.185   \n",
       "88        378785.0              107.0        7        32383.323   \n",
       "92        566032.0               59.0        8        31427.523   \n",
       "\n",
       "    weekend_average  \n",
       "36        24612.577  \n",
       "46        34962.962  \n",
       "55        25785.615  \n",
       "88        14568.654  \n",
       "92        21770.462  "
      ]
     },
     "execution_count": 64,
     "metadata": {},
     "output_type": "execute_result"
    }
   ],
   "source": [
    "final_petshop[final_petshop.petshop >5].head(5)"
   ]
  },
  {
   "cell_type": "code",
   "execution_count": null,
   "metadata": {},
   "outputs": [],
   "source": []
  }
 ],
 "metadata": {
  "kernelspec": {
   "display_name": "Python 3",
   "language": "python",
   "name": "python3"
  },
  "language_info": {
   "codemirror_mode": {
    "name": "ipython",
    "version": 3
   },
   "file_extension": ".py",
   "mimetype": "text/x-python",
   "name": "python",
   "nbconvert_exporter": "python",
   "pygments_lexer": "ipython3",
   "version": "3.6.4"
  }
 },
 "nbformat": 4,
 "nbformat_minor": 2
}
